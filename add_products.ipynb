{
  "nbformat": 4,
  "nbformat_minor": 0,
  "metadata": {
    "colab": {
      "name": "Untitled0.ipynb",
      "provenance": [],
      "collapsed_sections": []
    },
    "kernelspec": {
      "name": "python3",
      "display_name": "Python 3"
    },
    "language_info": {
      "name": "python"
    }
  },
  "cells": [
    {
      "cell_type": "code",
      "metadata": {
        "colab": {
          "base_uri": "https://localhost:8080/"
        },
        "id": "dCT9Kq4u69f_",
        "outputId": "9ea92f73-0993-4d9a-fee6-f28846c2aa04"
      },
      "source": [
        "import json\n",
        "fd = open(\"record.json\",'r')\n",
        "r = fd.read()\n",
        "fd.close()\n",
        "record = json.loads(r)\n",
        "choice=int(input(\"Enter Your Choice\\n 1.ADD \\n 2.Delete\\n press 1 or 2:\"))\n",
        "if (choice==1):\n",
        "  print(\"Adding Products for Inventory\")\n",
        "  prod_id = str(input(\"Enter product id:\"))\n",
        "  name = str(input(\"Enter name:\"))\n",
        "  pr = int(input(\"Enter price:\"))\n",
        "  qn = int(input(\"Enter quantity:\"))\n",
        "\n",
        "  try:\n",
        "    upd_qn=record[prod_id][\"qn\"]+qn\n",
        "    record[prod_id] = {'name': name, 'pr': pr, 'qn': upd_qn}\n",
        "  except:\n",
        "    record[prod_id] = {'name': name, 'pr': pr, 'qn': qn}\n",
        "else:\n",
        "  print(\"Deleting product from Inventory\")\n",
        "  prod_id = str(input(\"Enter product id:\"))\n",
        "  del record[prod_id]\n",
        "  \n",
        "\n",
        "js = json.dumps(record)\n",
        "\n",
        "fd = open(\"record.json\",'w')\n",
        "fd.write(js)\n",
        "fd.close()"
      ],
      "execution_count": 5,
      "outputs": [
        {
          "name": "stdout",
          "output_type": "stream",
          "text": [
            "Enter Your Choice\n",
            " 1.ADD \n",
            " 2.Delete\n",
            " press 1 or 2:1\n",
            "Adding Products for Inventory\n",
            "Enter product id:1007\n",
            "Enter name:mic\n",
            "Enter price:1500\n",
            "Enter quantity:20\n"
          ]
        }
      ]
    },
    {
      "cell_type": "code",
      "metadata": {
        "colab": {
          "base_uri": "https://localhost:8080/"
        },
        "id": "tyKPAp4kAn4_",
        "outputId": "2817fa77-5a0f-46e6-dbfd-67ad09c15d30"
      },
      "source": [
        "\n",
        "record"
      ],
      "execution_count": 6,
      "outputs": [
        {
          "output_type": "execute_result",
          "data": {
            "text/plain": [
              "{'1001': {'name': 'Choco Cake', 'pr': 100, 'qn': 34},\n",
              " '1002': {'name': 'Milk Cake', 'pr': 800, 'qn': 100},\n",
              " '1003': {'name': 'Drink', 'pr': 85, 'qn': 100},\n",
              " '1004': {'name': 'Candy', 'pr': 5, 'qn': 1000},\n",
              " '1005': {'name': 'Pen', 'pr': 20, 'qn': 100},\n",
              " '1006': {'name': 'Phone', 'pr': 50000, 'qn': 10},\n",
              " '1007': {'name': 'mic', 'pr': 1500, 'qn': 30},\n",
              " '1008': {'name': 'Case', 'pr': 599, 'qn': 5},\n",
              " '1009': {'name': 'Keyboard', 'pr': 1999, 'qn': 10},\n",
              " '1010': {'name': 'mango juice', 'pr': 30, 'qn': 100},\n",
              " '1011': {'name': 'soap', 'pr': 30, 'qn': 230},\n",
              " '1012': {'name': 'paste', 'pr': 20, 'qn': 130},\n",
              " '1013': {'name': 'brush', 'pr': 40, 'qn': 60},\n",
              " '1014': {'name': 'Water Bottle', 'pr': 15, 'qn': 40},\n",
              " '1015': {'name': 'Charger', 'pr': 80, 'qn': 50},\n",
              " '1016': {'name': 'Chocolate', 'pr': 40, 'qn': 90},\n",
              " '1017': {'name': 'Cookie', 'pr': 60, 'qn': 70},\n",
              " '1018': {'name': 'Coconut Oil', 'pr': 45, 'qn': 60},\n",
              " '1019': {'name': 'Milk', 'pr': 30, 'qn': 40},\n",
              " '1020': {'name': 'Pencil', 'pr': 5, 'qn': 85},\n",
              " '1021': {'name': 'Cup', 'pr': 120, 'qn': 50},\n",
              " '1022': {'name': 'T-Shirt', 'pr': 200, 'qn': 60},\n",
              " '1023': {'name': 'Sandals', 'pr': 180, 'qn': 50},\n",
              " '1024': {'name': 'Jacket', 'pr': 450, 'qn': 40},\n",
              " '1025': {'name': 'Shoe', 'pr': 400, 'qn': 30},\n",
              " '1026': {'name': 'Chips', 'pr': 30, 'qn': 40},\n",
              " '1027': {'name': 'Rope', 'pr': 50, 'qn': 20},\n",
              " '1028': {'name': 'Plates', 'pr': 50, 'qn': 25},\n",
              " '1029': {'name': 'Socks', 'pr': 60, 'qn': 30},\n",
              " '1030': {'name': 'Book', 'pr': 20, 'qn': 60}}"
            ]
          },
          "metadata": {},
          "execution_count": 6
        }
      ]
    },
    {
      "cell_type": "code",
      "metadata": {
        "id": "Bhw8W7gJDa29"
      },
      "source": [
        ""
      ],
      "execution_count": null,
      "outputs": []
    }
  ]
}