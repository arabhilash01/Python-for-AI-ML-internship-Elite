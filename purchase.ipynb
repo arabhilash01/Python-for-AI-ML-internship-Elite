{
  "nbformat": 4,
  "nbformat_minor": 0,
  "metadata": {
    "colab": {
      "name": "Untitled2.ipynb",
      "provenance": [],
      "collapsed_sections": []
    },
    "kernelspec": {
      "name": "python3",
      "display_name": "Python 3"
    },
    "language_info": {
      "name": "python"
    }
  },
  "cells": [
    {
      "cell_type": "code",
      "metadata": {
        "id": "5XBwfqs5bdLG"
      },
      "source": [
        "sales={} #execute once"
      ],
      "execution_count": 5,
      "outputs": []
    },
    {
      "cell_type": "code",
      "metadata": {
        "colab": {
          "base_uri": "https://localhost:8080/"
        },
        "id": "NUja30INbAAW",
        "outputId": "ae45a9e8-3330-42cd-abab-5aec95924336"
      },
      "source": [
        "import json\n",
        "import time\n",
        "fd = open(\"record.json\",'r')\n",
        "r = fd.read()\n",
        "fd.close()\n",
        "records = json.loads(r)\n",
        "print(\"------------------------------------\")\n",
        "print(\"*************************************\")\n",
        "ui_prod  = str(input(\"Enter the product_Id: \"))\n",
        "if(ui_prod not in records.keys()):\n",
        "  print(\"No product \")\n",
        "  exit()\n",
        "ui_quant = int(input(\"Enter the quantity: \"))\n",
        "discount=int(input(\"Enter Discount (in percentage): \"))\n",
        "if (ui_quant > (records[ui_prod]['qn'])):\n",
        "  print(\"Sorry Maximum available Quantity are\",records[ui_prod]['qn'])\n",
        "  print(\"*************************************\")\n",
        "else:  \n",
        "  print(\"Product: \", records[ui_prod]['name'])\n",
        "  print(\"Price: \", records[ui_prod]['pr'])\n",
        "  print(\"Date:\",time.ctime())\n",
        "  print(\"Billing Amount: \", (records[ui_prod]['pr'] * ui_quant)-((discount/100)*(records[ui_prod]['pr'] * ui_quant)))\n",
        "  records[ui_prod]['qn'] = records[ui_prod]['qn'] - ui_quant\n",
        "  print(\"*************************************\")\n",
        "  sales[len(sales)+1]={'name':records[ui_prod]['name'],'prod' : ui_prod, 'qn' : ui_quant, 'amount': records[ui_prod]['pr'] * ui_quant,'Discount percentage':discount}\n",
        "  \n",
        "  js = json.dumps(records)\n",
        "  fd = open(\"record.json\",'w')\n",
        "  fd.write(js)\n",
        "fd.close()"
      ],
      "execution_count": 59,
      "outputs": [
        {
          "output_type": "stream",
          "name": "stdout",
          "text": [
            "------------------------------------\n",
            "*************************************\n",
            "Enter the product_Id: 1002\n",
            "Enter the quantity: 1\n",
            "Enter Discount (in percentage): 10\n",
            "Product:  Milk Cake\n",
            "Price:  800\n",
            "Date: Mon Sep  6 14:16:29 2021\n",
            "Billing Amount:  720.0\n",
            "*************************************\n"
          ]
        }
      ]
    },
    {
      "cell_type": "code",
      "metadata": {
        "colab": {
          "base_uri": "https://localhost:8080/"
        },
        "id": "VqXWxxsubUfu",
        "outputId": "f44b47fc-51cb-41cf-c5ba-756903622f68"
      },
      "source": [
        "records"
      ],
      "execution_count": 60,
      "outputs": [
        {
          "output_type": "execute_result",
          "data": {
            "text/plain": [
              "{'1001': {'name': 'Choco Cake', 'pr': 100, 'qn': 32},\n",
              " '1002': {'name': 'Milk Cake', 'pr': 800, 'qn': 96},\n",
              " '1003': {'name': 'Drink', 'pr': 85, 'qn': 100},\n",
              " '1004': {'name': 'Candy', 'pr': 5, 'qn': 1000},\n",
              " '1005': {'name': 'Pen', 'pr': 20, 'qn': 98},\n",
              " '1006': {'name': 'Phone', 'pr': 50000, 'qn': 10},\n",
              " '1007': {'name': 'mic', 'pr': 1500, 'qn': 30},\n",
              " '1008': {'name': 'Case', 'pr': 599, 'qn': 5},\n",
              " '1009': {'name': 'Keyboard', 'pr': 1999, 'qn': 10},\n",
              " '1010': {'name': 'mango juice', 'pr': 30, 'qn': 100},\n",
              " '1011': {'name': 'soap', 'pr': 30, 'qn': 230},\n",
              " '1012': {'name': 'paste', 'pr': 20, 'qn': 130},\n",
              " '1013': {'name': 'brush', 'pr': 40, 'qn': 60},\n",
              " '1014': {'name': 'Water Bottle', 'pr': 15, 'qn': 40},\n",
              " '1015': {'name': 'Charger', 'pr': 80, 'qn': 50},\n",
              " '1016': {'name': 'Chocolate', 'pr': 40, 'qn': 89},\n",
              " '1017': {'name': 'Cookie', 'pr': 60, 'qn': 68},\n",
              " '1018': {'name': 'Coconut Oil', 'pr': 45, 'qn': 60},\n",
              " '1019': {'name': 'Milk', 'pr': 30, 'qn': 37},\n",
              " '1020': {'name': 'Pencil', 'pr': 5, 'qn': 82},\n",
              " '1021': {'name': 'Cup', 'pr': 120, 'qn': 50},\n",
              " '1022': {'name': 'T-Shirt', 'pr': 200, 'qn': 59},\n",
              " '1023': {'name': 'Sandals', 'pr': 180, 'qn': 50},\n",
              " '1024': {'name': 'Jacket', 'pr': 450, 'qn': 37},\n",
              " '1025': {'name': 'Shoe', 'pr': 400, 'qn': 30},\n",
              " '1026': {'name': 'Chips', 'pr': 30, 'qn': 36},\n",
              " '1027': {'name': 'Rope', 'pr': 50, 'qn': 19},\n",
              " '1028': {'name': 'Plates', 'pr': 50, 'qn': 23},\n",
              " '1029': {'name': 'Socks', 'pr': 60, 'qn': 30},\n",
              " '1030': {'name': 'Book', 'pr': 20, 'qn': 50}}"
            ]
          },
          "metadata": {},
          "execution_count": 60
        }
      ]
    },
    {
      "cell_type": "code",
      "metadata": {
        "colab": {
          "base_uri": "https://localhost:8080/"
        },
        "id": "38TyehIhbYk8",
        "outputId": "fef46c14-68be-422d-8c01-cc781bb441da"
      },
      "source": [
        "sales"
      ],
      "execution_count": 61,
      "outputs": [
        {
          "output_type": "execute_result",
          "data": {
            "text/plain": [
              "{1: {'Discount percentage': 10,\n",
              "  'amount': 200,\n",
              "  'name': 'Choco Cake',\n",
              "  'prod': '1001',\n",
              "  'qn': 2},\n",
              " 2: {'Discount percentage': 20,\n",
              "  'amount': 200,\n",
              "  'name': 'Book',\n",
              "  'prod': '1030',\n",
              "  'qn': 10},\n",
              " 3: {'Discount percentage': 10,\n",
              "  'amount': 40,\n",
              "  'name': 'Pen',\n",
              "  'prod': '1005',\n",
              "  'qn': 2},\n",
              " 4: {'Discount percentage': 1,\n",
              "  'amount': 5,\n",
              "  'name': 'Pencil',\n",
              "  'prod': '1020',\n",
              "  'qn': 1},\n",
              " 5: {'Discount percentage': 30,\n",
              "  'amount': 120,\n",
              "  'name': 'Cookie',\n",
              "  'prod': '1017',\n",
              "  'qn': 2},\n",
              " 6: {'Discount percentage': 20,\n",
              "  'amount': 2400,\n",
              "  'name': 'Milk Cake',\n",
              "  'prod': '1002',\n",
              "  'qn': 3},\n",
              " 7: {'Discount percentage': 10,\n",
              "  'amount': 200,\n",
              "  'name': 'T-Shirt',\n",
              "  'prod': '1022',\n",
              "  'qn': 1},\n",
              " 8: {'Discount percentage': 10,\n",
              "  'amount': 1350,\n",
              "  'name': 'Jacket',\n",
              "  'prod': '1024',\n",
              "  'qn': 3},\n",
              " 9: {'Discount percentage': 30,\n",
              "  'amount': 120,\n",
              "  'name': 'Chips',\n",
              "  'prod': '1026',\n",
              "  'qn': 4},\n",
              " 10: {'Discount percentage': 10,\n",
              "  'amount': 50,\n",
              "  'name': 'Rope',\n",
              "  'prod': '1027',\n",
              "  'qn': 1},\n",
              " 11: {'Discount percentage': 10,\n",
              "  'amount': 10,\n",
              "  'name': 'Pencil',\n",
              "  'prod': '1020',\n",
              "  'qn': 2},\n",
              " 12: {'Discount percentage': 20,\n",
              "  'amount': 90,\n",
              "  'name': 'Milk',\n",
              "  'prod': '1019',\n",
              "  'qn': 3},\n",
              " 13: {'Discount percentage': 10,\n",
              "  'amount': 40,\n",
              "  'name': 'Chocolate',\n",
              "  'prod': '1016',\n",
              "  'qn': 1},\n",
              " 14: {'Discount percentage': 10,\n",
              "  'amount': 100,\n",
              "  'name': 'Plates',\n",
              "  'prod': '1028',\n",
              "  'qn': 2},\n",
              " 15: {'Discount percentage': 10,\n",
              "  'amount': 800,\n",
              "  'name': 'Milk Cake',\n",
              "  'prod': '1002',\n",
              "  'qn': 1}}"
            ]
          },
          "metadata": {},
          "execution_count": 61
        }
      ]
    },
    {
      "cell_type": "code",
      "metadata": {
        "id": "BxXZRlT7bbbn"
      },
      "source": [
        "jnew=json.dumps(sales)\n",
        "\n",
        "\n",
        "fd = open(\"sales.json\",'w')\n",
        "fd.write(jnew)\n",
        "fd.close()"
      ],
      "execution_count": 62,
      "outputs": []
    }
  ]
}